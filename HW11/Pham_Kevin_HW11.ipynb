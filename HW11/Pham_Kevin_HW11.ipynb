{
 "cells": [
  {
   "cell_type": "markdown",
   "metadata": {},
   "source": [
    "Before you turn this homework in, make sure everything runs as expected. First, **restart the kernel** and then **run all cells** (in the menubar, select Kernel$\\rightarrow$Restart \\& Run all). If you get error messages, the grader will get the same errors and won't be able to grade your work. \n",
    "\n",
    "Make sure you fill in any place that says `YOUR CODE HERE` or \"YOUR ANSWER HERE\". You may delete the line(s) that say \"**raise** NotImplementedError()\" and replace them with your actual work. Write all your work in the cells provided in this notebook. **DO NOT** add or delete any cells. \n",
    "\n",
    "Please fill in your name in the cell below."
   ]
  },
  {
   "cell_type": "code",
   "execution_count": null,
   "metadata": {},
   "outputs": [],
   "source": [
    "NAME = \"Kevin Pham\""
   ]
  },
  {
   "cell_type": "markdown",
   "metadata": {},
   "source": [
    "---"
   ]
  },
  {
   "cell_type": "markdown",
   "metadata": {
    "deletable": false,
    "editable": false,
    "nbgrader": {
     "cell_type": "markdown",
     "checksum": "711d72dffd8ba2a13d80d58cca67cc02",
     "grade": false,
     "grade_id": "cell-13b6f13920352efb",
     "locked": true,
     "schema_version": 3,
     "solution": false,
     "task": false
    }
   },
   "source": [
    "# Homework 11\n",
    "\n",
    "In this assignment, we're continuing to work with the Sakila database that you installed for your previous Homework assignment. The database contains records of a ficticious chain of DVD video rental stores. Download the file \"sqlite-sakila.db\" from Canvas. If you put the database file into the same folder where you have saved this notebook, you can run the code provided below unchanged. Otherwise, you have to set a path to where you have saved the file. You can also find an ER-schema of the Sakila database on Canvas. Look at the ER-schema to understand the structure of the Sakila database. \n",
    "\n",
    "For all problems below, if you are not able to write `SQLite3` code to obtain results, try to write at least the corresponding SQL code statement in the provided Markdown box. If you can't run the code, you won't be able to get answers, of course, but you could at least get partial credit for your SQL statements. "
   ]
  },
  {
   "cell_type": "markdown",
   "metadata": {
    "deletable": false,
    "editable": false,
    "nbgrader": {
     "cell_type": "markdown",
     "checksum": "291b87c37ee45af5f9661d9c5458858f",
     "grade": false,
     "grade_id": "cell-244d094e3fa3d94c",
     "locked": true,
     "schema_version": 3,
     "solution": false,
     "task": false
    }
   },
   "source": [
    "### Problem 1\n",
    "\n",
    "Find the full names (first name and last name) of all customers whose first name begins with 'Ed'. Display them in a table. "
   ]
  },
  {
   "cell_type": "code",
   "execution_count": 2,
   "metadata": {
    "deletable": false,
    "nbgrader": {
     "cell_type": "code",
     "checksum": "2beadb1fd56cd289cde92f5ce1fe8759",
     "grade": true,
     "grade_id": "cell-a2eeccad08e63782",
     "locked": false,
     "points": 4,
     "schema_version": 3,
     "solution": true,
     "task": false
    }
   },
   "outputs": [
    {
     "name": "stdout",
     "output_type": "stream",
     "text": [
      "  first_name last_name\n",
      "0       EDNA      WEST\n",
      "1      EDITH  MCDONALD\n",
      "2     EDWARD     BAUGH\n",
      "3      EDWIN      BURK\n",
      "4      EDDIE    TOMLIN\n",
      "5      EDGAR    RHOADS\n",
      "6    EDUARDO     HIATT\n"
     ]
    }
   ],
   "source": [
    "# COMPLETE\n",
    "import sqlite3\n",
    "import pandas as pd\n",
    "\n",
    "def run_query(q):\n",
    "    with sqlite3.connect(\"sqlite-sakila.db\") as con:\n",
    "            # Change the path to where YOU have saved the sqlite-sakila.db file\n",
    "        return pd.read_sql(q, con)\n",
    "    \n",
    "# YOUR CODE HERE\n",
    "# raise NotImplementedError()\n",
    "\n",
    "print(run_query(\"SELECT first_name,last_name FROM customer WHERE first_name LIKE 'ED%'\"))"
   ]
  },
  {
   "cell_type": "markdown",
   "metadata": {
    "deletable": false,
    "nbgrader": {
     "cell_type": "markdown",
     "checksum": "771d3a2d17423ed303fda09b944e4435",
     "grade": true,
     "grade_id": "cell-dc0d7817fba267d9",
     "locked": false,
     "points": 0,
     "schema_version": 3,
     "solution": true,
     "task": false
    }
   },
   "source": [
    "YOUR ANSWER HERE"
   ]
  },
  {
   "cell_type": "markdown",
   "metadata": {
    "deletable": false,
    "editable": false,
    "nbgrader": {
     "cell_type": "markdown",
     "checksum": "f85e6fe8c6cd74a2e4b741f83b8fb09a",
     "grade": false,
     "grade_id": "cell-f707c1b534cfefdd",
     "locked": true,
     "schema_version": 3,
     "solution": false,
     "task": false
    }
   },
   "source": [
    "### Problem 2\n",
    "\n",
    "If the film titles are ordered alphabetically, which three movies come alphabetically first? "
   ]
  },
  {
   "cell_type": "code",
   "execution_count": 3,
   "metadata": {
    "deletable": false,
    "nbgrader": {
     "cell_type": "code",
     "checksum": "f2c79cb5b962fb0d1c387decf627d02b",
     "grade": true,
     "grade_id": "cell-946676be6fa6ea71",
     "locked": false,
     "points": 4,
     "schema_version": 3,
     "solution": true,
     "task": false
    }
   },
   "outputs": [
    {
     "name": "stdout",
     "output_type": "stream",
     "text": [
      "              title\n",
      "0  ACADEMY DINOSAUR\n",
      "1    ACE GOLDFINGER\n",
      "2  ADAPTATION HOLES\n"
     ]
    }
   ],
   "source": [
    "# COMPLETE\n",
    "# YOUR CODE HERE\n",
    "print(run_query(\"SELECT title FROM film ORDER BY title LIMIT 3\"))\n",
    "# raise NotImplementedError()"
   ]
  },
  {
   "cell_type": "markdown",
   "metadata": {
    "deletable": false,
    "nbgrader": {
     "cell_type": "markdown",
     "checksum": "2c98c96c08deb5fb2b32cd9a5aaf4c0b",
     "grade": true,
     "grade_id": "cell-0444b4f6f923a575",
     "locked": false,
     "points": 0,
     "schema_version": 3,
     "solution": true,
     "task": false
    }
   },
   "source": [
    "YOUR ANSWER HERE"
   ]
  },
  {
   "cell_type": "markdown",
   "metadata": {
    "deletable": false,
    "editable": false,
    "nbgrader": {
     "cell_type": "markdown",
     "checksum": "0e53f648b33ca7c14fda60af907db2e6",
     "grade": false,
     "grade_id": "cell-ce28e85e08ef66db",
     "locked": true,
     "schema_version": 3,
     "solution": false,
     "task": false
    }
   },
   "source": [
    "### Problem 3\n",
    "\n",
    "Produce a table of film titles, rental rates, ratings, and movie categories (by name, not by id number) for all G-rated Sci-Fi films. "
   ]
  },
  {
   "cell_type": "code",
   "execution_count": 22,
   "metadata": {
    "deletable": false,
    "nbgrader": {
     "cell_type": "code",
     "checksum": "21e2e4e0161ea88b277494b47547c40c",
     "grade": true,
     "grade_id": "cell-c228af54359066ae",
     "locked": false,
     "points": 4,
     "schema_version": 3,
     "solution": true,
     "task": false
    }
   },
   "outputs": [
    {
     "name": "stdout",
     "output_type": "stream",
     "text": [
      "                  title  rental_rate rating    name\n",
      "0        ANNIE IDENTITY         0.99      G  Sci-Fi\n",
      "1       ARMAGEDDON LOST         0.99      G  Sci-Fi\n",
      "2  BARBARELLA STREETCAR         2.99      G  Sci-Fi\n",
      "3         CHEAPER CLYDE         0.99      G  Sci-Fi\n",
      "4         CITIZEN SHREK         0.99      G  Sci-Fi\n",
      "5   COLDBLOODED DARLING         4.99      G  Sci-Fi\n",
      "6       DAISY MENAGERIE         4.99      G  Sci-Fi\n",
      "7         GARDEN ISLAND         4.99      G  Sci-Fi\n",
      "8            MARRIED GO         2.99      G  Sci-Fi\n",
      "9      SUICIDES SILENCE         4.99      G  Sci-Fi\n"
     ]
    }
   ],
   "source": [
    "# COMPLETE\n",
    "# YOUR CODE HERE\n",
    "# need to join two tables to use 'categories' (film -> film_category)\n",
    "\n",
    "print(run_query(\"SELECT title,rental_rate,rating,cat.name \\\n",
    "    FROM film\\\n",
    "    JOIN film_category\\\n",
    "    ON film.film_id = film_category.film_id\\\n",
    "    JOIN category AS cat\\\n",
    "    ON film_category.category_id = cat.category_id\\\n",
    "    WHERE (cat.name = 'Sci-Fi') AND (film.rating = 'G')\"))      \n",
    "#raise NotImplementedError()"
   ]
  },
  {
   "cell_type": "markdown",
   "metadata": {
    "deletable": false,
    "nbgrader": {
     "cell_type": "markdown",
     "checksum": "f212b8a65996aede2729694fd5212b3b",
     "grade": true,
     "grade_id": "cell-4d7778cc0656873e",
     "locked": false,
     "points": 0,
     "schema_version": 3,
     "solution": true,
     "task": false
    }
   },
   "source": [
    "YOUR ANSWER HERE"
   ]
  },
  {
   "cell_type": "markdown",
   "metadata": {
    "deletable": false,
    "editable": false,
    "nbgrader": {
     "cell_type": "markdown",
     "checksum": "c25a4f0070da8984de275c5b38ad58af",
     "grade": false,
     "grade_id": "cell-b98f0f4cdda22109",
     "locked": true,
     "schema_version": 3,
     "solution": false,
     "task": false
    }
   },
   "source": [
    "### Problem 4\n",
    "\n",
    "Some of the actors in the actor table have the same last names. Produce a table of last names of actors and counts of how many actors have that same last name (your table should have exactly the two columns \"last_name\" and \"count\").  Order the table first by counts in decreasing order and then alphabetically by last name and only display last names for cases where at least three actors share the same last name. "
   ]
  },
  {
   "cell_type": "code",
   "execution_count": 30,
   "metadata": {
    "deletable": false,
    "nbgrader": {
     "cell_type": "code",
     "checksum": "14ea34f675f3964e08a7b67c84f71917",
     "grade": true,
     "grade_id": "cell-854871a8be7f0f20",
     "locked": false,
     "points": 4,
     "schema_version": 3,
     "solution": true,
     "task": false
    }
   },
   "outputs": [
    {
     "name": "stdout",
     "output_type": "stream",
     "text": [
      "    last_name  COUNT (*)\n",
      "0      KILMER          5\n",
      "1       NOLTE          4\n",
      "2      TEMPLE          4\n",
      "3      AKROYD          3\n",
      "4       ALLEN          3\n",
      "5       BERRY          3\n",
      "6       DAVIS          3\n",
      "7   DEGENERES          3\n",
      "8     GARLAND          3\n",
      "9     GUINESS          3\n",
      "10     HARRIS          3\n",
      "11    HOFFMAN          3\n",
      "12    HOPKINS          3\n",
      "13  JOHANSSON          3\n",
      "14     KEITEL          3\n",
      "15       PECK          3\n",
      "16       TORN          3\n",
      "17   WILLIAMS          3\n",
      "18     WILLIS          3\n",
      "19  ZELLWEGER          3\n"
     ]
    }
   ],
   "source": [
    "# COMPLETE\n",
    "# YOUR CODE HERE\n",
    "# need to group by their last names\n",
    "# X >= 3 at least 3 actors sharing the last names.\n",
    "# DESC - descending order\n",
    "print(run_query(\"SELECT last_name, COUNT (*) FROM actor GROUP BY last_name HAVING COUNT(*) >= 3 ORDER BY COUNT(*) DESC,last_name\"))\n",
    "# raise NotImplementedError()"
   ]
  },
  {
   "cell_type": "markdown",
   "metadata": {
    "deletable": false,
    "nbgrader": {
     "cell_type": "markdown",
     "checksum": "1514699eb166e92ab3b4b736f920e1fc",
     "grade": true,
     "grade_id": "cell-050eafc94bd47578",
     "locked": false,
     "points": 0,
     "schema_version": 3,
     "solution": true,
     "task": false
    }
   },
   "source": [
    "YOUR ANSWER HERE"
   ]
  },
  {
   "cell_type": "markdown",
   "metadata": {
    "deletable": false,
    "editable": false,
    "nbgrader": {
     "cell_type": "markdown",
     "checksum": "b75d69f9573a45926e68611288fc267d",
     "grade": false,
     "grade_id": "cell-67208fd461701212",
     "locked": true,
     "schema_version": 3,
     "solution": false,
     "task": false
    }
   },
   "source": [
    "### Problem 5\n",
    "\n",
    "Write SQL code to return the count of the number of copies of the film 'WESTWARD SEABISCUIT' that are in the inventory. Your return table should have just one line (I don't want to have to pick out the answer out of a large table manually). "
   ]
  },
  {
   "cell_type": "code",
   "execution_count": 31,
   "metadata": {
    "deletable": false,
    "nbgrader": {
     "cell_type": "code",
     "checksum": "bbf02ba169869b0c4b0dddaead1eae8e",
     "grade": true,
     "grade_id": "cell-fb3b7284b4a614c5",
     "locked": false,
     "points": 4,
     "schema_version": 3,
     "solution": true,
     "task": false
    }
   },
   "outputs": [
    {
     "name": "stdout",
     "output_type": "stream",
     "text": [
      "                 title  COUNT(*)\n",
      "0  WESTWARD SEABISCUIT         7\n"
     ]
    }
   ],
   "source": [
    "# COMPLETE\n",
    "# YOUR CODE HERE\n",
    "# keyword: WESTWARD SEABISCUIT\n",
    "# title has to be specific/exact\n",
    "# join: film -> inventory by their ID then group only by the specific film title\n",
    "print(run_query(\"SELECT title, COUNT(*)\\\n",
    "    FROM film\\\n",
    "    JOIN inventory\\\n",
    "    ON film.film_id = inventory.film_id\\\n",
    "    GROUP BY film.title\\\n",
    "    HAVING film.title = 'WESTWARD SEABISCUIT'\"))\n",
    "# raise NotImplementedError()"
   ]
  },
  {
   "cell_type": "markdown",
   "metadata": {
    "deletable": false,
    "nbgrader": {
     "cell_type": "markdown",
     "checksum": "483ecac33a13747e36efb1f2495f37f2",
     "grade": true,
     "grade_id": "cell-af67d0fadd0cfdd7",
     "locked": false,
     "points": 0,
     "schema_version": 3,
     "solution": true,
     "task": false
    }
   },
   "source": [
    "YOUR ANSWER HERE"
   ]
  }
 ],
 "metadata": {
  "kernelspec": {
   "display_name": "Python 3 (ipykernel)",
   "language": "python",
   "name": "python3"
  },
  "language_info": {
   "codemirror_mode": {
    "name": "ipython",
    "version": 3
   },
   "file_extension": ".py",
   "mimetype": "text/x-python",
   "name": "python",
   "nbconvert_exporter": "python",
   "pygments_lexer": "ipython3",
   "version": "3.9.7"
  }
 },
 "nbformat": 4,
 "nbformat_minor": 2
}
