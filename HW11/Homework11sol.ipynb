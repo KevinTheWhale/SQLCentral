{
 "cells": [
  {
   "cell_type": "markdown",
   "metadata": {
    "nbgrader": {
     "grade": false,
     "grade_id": "cell-13b6f13920352efb",
     "locked": true,
     "schema_version": 3,
     "solution": false,
     "task": false
    }
   },
   "source": [
    "# Homework 11\n",
    "\n",
    "In this assignment, we're continuing to work with the Sakila database that you installed for your previous Homework assignment. The database contains records of a ficticious chain of DVD video rental stores. Download the file \"sqlite-sakila.db\" from Canvas. If you put the database file into the same folder where you have saved this notebook, you can run the code provided below unchanged. Otherwise, you have to set a path to where you have saved the file. You can also find an ER-schema of the Sakila database on Canvas. Look at the ER-schema to understand the structure of the Sakila database. \n",
    "\n",
    "For all problems below, if you are not able to write `SQLite3` code to obtain results, try to write at least the corresponding SQL code statement in the provided Markdown box. If you can't run the code, you won't be able to get answers, of course, but you could at least get partial credit for your SQL statements. "
   ]
  },
  {
   "cell_type": "markdown",
   "metadata": {
    "nbgrader": {
     "grade": false,
     "grade_id": "cell-244d094e3fa3d94c",
     "locked": true,
     "schema_version": 3,
     "solution": false,
     "task": false
    }
   },
   "source": [
    "### Problem 1\n",
    "\n",
    "Find the full names (first name and last name) of all customers whose first name begins with 'Ed'. Display them in a table. "
   ]
  },
  {
   "cell_type": "code",
   "execution_count": 1,
   "metadata": {
    "nbgrader": {
     "grade": true,
     "grade_id": "cell-a2eeccad08e63782",
     "locked": false,
     "points": 4,
     "schema_version": 3,
     "solution": true,
     "task": false
    }
   },
   "outputs": [
    {
     "data": {
      "text/html": [
       "<div>\n",
       "<style scoped>\n",
       "    .dataframe tbody tr th:only-of-type {\n",
       "        vertical-align: middle;\n",
       "    }\n",
       "\n",
       "    .dataframe tbody tr th {\n",
       "        vertical-align: top;\n",
       "    }\n",
       "\n",
       "    .dataframe thead th {\n",
       "        text-align: right;\n",
       "    }\n",
       "</style>\n",
       "<table border=\"1\" class=\"dataframe\">\n",
       "  <thead>\n",
       "    <tr style=\"text-align: right;\">\n",
       "      <th></th>\n",
       "      <th>first_name</th>\n",
       "      <th>last_name</th>\n",
       "    </tr>\n",
       "  </thead>\n",
       "  <tbody>\n",
       "    <tr>\n",
       "      <th>0</th>\n",
       "      <td>EDNA</td>\n",
       "      <td>WEST</td>\n",
       "    </tr>\n",
       "    <tr>\n",
       "      <th>1</th>\n",
       "      <td>EDITH</td>\n",
       "      <td>MCDONALD</td>\n",
       "    </tr>\n",
       "    <tr>\n",
       "      <th>2</th>\n",
       "      <td>EDWARD</td>\n",
       "      <td>BAUGH</td>\n",
       "    </tr>\n",
       "    <tr>\n",
       "      <th>3</th>\n",
       "      <td>EDWIN</td>\n",
       "      <td>BURK</td>\n",
       "    </tr>\n",
       "    <tr>\n",
       "      <th>4</th>\n",
       "      <td>EDDIE</td>\n",
       "      <td>TOMLIN</td>\n",
       "    </tr>\n",
       "    <tr>\n",
       "      <th>5</th>\n",
       "      <td>EDGAR</td>\n",
       "      <td>RHOADS</td>\n",
       "    </tr>\n",
       "    <tr>\n",
       "      <th>6</th>\n",
       "      <td>EDUARDO</td>\n",
       "      <td>HIATT</td>\n",
       "    </tr>\n",
       "  </tbody>\n",
       "</table>\n",
       "</div>"
      ],
      "text/plain": [
       "  first_name last_name\n",
       "0       EDNA      WEST\n",
       "1      EDITH  MCDONALD\n",
       "2     EDWARD     BAUGH\n",
       "3      EDWIN      BURK\n",
       "4      EDDIE    TOMLIN\n",
       "5      EDGAR    RHOADS\n",
       "6    EDUARDO     HIATT"
      ]
     },
     "execution_count": 1,
     "metadata": {},
     "output_type": "execute_result"
    }
   ],
   "source": [
    "import sqlite3\n",
    "import pandas as pd\n",
    "\n",
    "def run_query(q):\n",
    "    with sqlite3.connect(\"sqlite-sakila.db\") as con:\n",
    "            # Change the path to where YOU have saved the sqlite-sakila.db file\n",
    "        return pd.read_sql(q, con)\n",
    "    \n",
    "### BEGIN SOLUTION\n",
    "run_query(\"SELECT first_name, last_name FROM customer WHERE first_name LIKE 'ED%'\")\n",
    "### END SOLUTION "
   ]
  },
  {
   "cell_type": "markdown",
   "metadata": {
    "nbgrader": {
     "grade": true,
     "grade_id": "cell-dc0d7817fba267d9",
     "locked": false,
     "points": 0,
     "schema_version": 3,
     "solution": true,
     "task": false
    }
   },
   "source": [
    "SQL code:\n",
    "\n",
    "```\n",
    "SELECT first_name, last_name \n",
    "    FROM customer\n",
    "    WHERE first_name LIKE 'ED%';\n",
    "```\n",
    "\n",
    "Answer:\n",
    "\n",
    "| first_name | last_name |\n",
    "|:-- | :--|\n",
    "| EDNA       | WEST      |\n",
    "| EDITH      | MCDONALD  |\n",
    "| EDWARD     | BAUGH     |\n",
    "| EDWIN      | BURK      |\n",
    "| EDDIE      | TOMLIN    |\n",
    "| EDGAR      | RHOADS    |\n",
    "| EDUARDO    | HIATT     |"
   ]
  },
  {
   "cell_type": "markdown",
   "metadata": {
    "nbgrader": {
     "grade": false,
     "grade_id": "cell-f707c1b534cfefdd",
     "locked": true,
     "schema_version": 3,
     "solution": false,
     "task": false
    }
   },
   "source": [
    "### Problem 2\n",
    "\n",
    "If the film titles are ordered alphabetically, which three movies come alphabetically first? "
   ]
  },
  {
   "cell_type": "code",
   "execution_count": 2,
   "metadata": {
    "nbgrader": {
     "grade": true,
     "grade_id": "cell-946676be6fa6ea71",
     "locked": false,
     "points": 4,
     "schema_version": 3,
     "solution": true,
     "task": false
    }
   },
   "outputs": [
    {
     "data": {
      "text/html": [
       "<div>\n",
       "<style scoped>\n",
       "    .dataframe tbody tr th:only-of-type {\n",
       "        vertical-align: middle;\n",
       "    }\n",
       "\n",
       "    .dataframe tbody tr th {\n",
       "        vertical-align: top;\n",
       "    }\n",
       "\n",
       "    .dataframe thead th {\n",
       "        text-align: right;\n",
       "    }\n",
       "</style>\n",
       "<table border=\"1\" class=\"dataframe\">\n",
       "  <thead>\n",
       "    <tr style=\"text-align: right;\">\n",
       "      <th></th>\n",
       "      <th>title</th>\n",
       "    </tr>\n",
       "  </thead>\n",
       "  <tbody>\n",
       "    <tr>\n",
       "      <th>0</th>\n",
       "      <td>ACADEMY DINOSAUR</td>\n",
       "    </tr>\n",
       "    <tr>\n",
       "      <th>1</th>\n",
       "      <td>ACE GOLDFINGER</td>\n",
       "    </tr>\n",
       "    <tr>\n",
       "      <th>2</th>\n",
       "      <td>ADAPTATION HOLES</td>\n",
       "    </tr>\n",
       "  </tbody>\n",
       "</table>\n",
       "</div>"
      ],
      "text/plain": [
       "              title\n",
       "0  ACADEMY DINOSAUR\n",
       "1    ACE GOLDFINGER\n",
       "2  ADAPTATION HOLES"
      ]
     },
     "execution_count": 2,
     "metadata": {},
     "output_type": "execute_result"
    }
   ],
   "source": [
    "### BEGIN SOLUTION \n",
    "run_query(\"SELECT title FROM film ORDER BY title LIMIT 3;\")\n",
    "### END SOLUTION "
   ]
  },
  {
   "cell_type": "markdown",
   "metadata": {
    "nbgrader": {
     "grade": true,
     "grade_id": "cell-0444b4f6f923a575",
     "locked": false,
     "points": 0,
     "schema_version": 3,
     "solution": true,
     "task": false
    }
   },
   "source": [
    "SQL syntax:\n",
    "\n",
    "```\n",
    "SELECT title FROM film ORDER BY title LIMIT 3;\n",
    "```\n",
    "\n",
    "Answer:\n",
    "\n",
    "Note, the films are already ordered alphabetically in the film table, which means that the `ORDER BY` statement could be omitted. \n",
    "\n",
    "| title                       |\n",
    "|:--|\n",
    "| ACADEMY DINOSAUR            |\n",
    "| ACE GOLDFINGER              |\n",
    "| ADAPTATION HOLES            |"
   ]
  },
  {
   "cell_type": "markdown",
   "metadata": {
    "nbgrader": {
     "grade": false,
     "grade_id": "cell-ce28e85e08ef66db",
     "locked": true,
     "schema_version": 3,
     "solution": false,
     "task": false
    }
   },
   "source": [
    "### Problem 3\n",
    "\n",
    "Produce a table of film titles, rental rates, ratings, and movie categories (by name, not by id number) for all G-rated Sci-Fi films. "
   ]
  },
  {
   "cell_type": "code",
   "execution_count": 3,
   "metadata": {
    "nbgrader": {
     "grade": true,
     "grade_id": "cell-c228af54359066ae",
     "locked": false,
     "points": 4,
     "schema_version": 3,
     "solution": true,
     "task": false
    }
   },
   "outputs": [
    {
     "data": {
      "text/html": [
       "<div>\n",
       "<style scoped>\n",
       "    .dataframe tbody tr th:only-of-type {\n",
       "        vertical-align: middle;\n",
       "    }\n",
       "\n",
       "    .dataframe tbody tr th {\n",
       "        vertical-align: top;\n",
       "    }\n",
       "\n",
       "    .dataframe thead th {\n",
       "        text-align: right;\n",
       "    }\n",
       "</style>\n",
       "<table border=\"1\" class=\"dataframe\">\n",
       "  <thead>\n",
       "    <tr style=\"text-align: right;\">\n",
       "      <th></th>\n",
       "      <th>title</th>\n",
       "      <th>rate</th>\n",
       "      <th>rating</th>\n",
       "      <th>category</th>\n",
       "    </tr>\n",
       "  </thead>\n",
       "  <tbody>\n",
       "    <tr>\n",
       "      <th>0</th>\n",
       "      <td>ANNIE IDENTITY</td>\n",
       "      <td>0.99</td>\n",
       "      <td>G</td>\n",
       "      <td>Sci-Fi</td>\n",
       "    </tr>\n",
       "    <tr>\n",
       "      <th>1</th>\n",
       "      <td>ARMAGEDDON LOST</td>\n",
       "      <td>0.99</td>\n",
       "      <td>G</td>\n",
       "      <td>Sci-Fi</td>\n",
       "    </tr>\n",
       "    <tr>\n",
       "      <th>2</th>\n",
       "      <td>BARBARELLA STREETCAR</td>\n",
       "      <td>2.99</td>\n",
       "      <td>G</td>\n",
       "      <td>Sci-Fi</td>\n",
       "    </tr>\n",
       "    <tr>\n",
       "      <th>3</th>\n",
       "      <td>CHEAPER CLYDE</td>\n",
       "      <td>0.99</td>\n",
       "      <td>G</td>\n",
       "      <td>Sci-Fi</td>\n",
       "    </tr>\n",
       "    <tr>\n",
       "      <th>4</th>\n",
       "      <td>CITIZEN SHREK</td>\n",
       "      <td>0.99</td>\n",
       "      <td>G</td>\n",
       "      <td>Sci-Fi</td>\n",
       "    </tr>\n",
       "    <tr>\n",
       "      <th>5</th>\n",
       "      <td>COLDBLOODED DARLING</td>\n",
       "      <td>4.99</td>\n",
       "      <td>G</td>\n",
       "      <td>Sci-Fi</td>\n",
       "    </tr>\n",
       "    <tr>\n",
       "      <th>6</th>\n",
       "      <td>DAISY MENAGERIE</td>\n",
       "      <td>4.99</td>\n",
       "      <td>G</td>\n",
       "      <td>Sci-Fi</td>\n",
       "    </tr>\n",
       "    <tr>\n",
       "      <th>7</th>\n",
       "      <td>GARDEN ISLAND</td>\n",
       "      <td>4.99</td>\n",
       "      <td>G</td>\n",
       "      <td>Sci-Fi</td>\n",
       "    </tr>\n",
       "    <tr>\n",
       "      <th>8</th>\n",
       "      <td>MARRIED GO</td>\n",
       "      <td>2.99</td>\n",
       "      <td>G</td>\n",
       "      <td>Sci-Fi</td>\n",
       "    </tr>\n",
       "    <tr>\n",
       "      <th>9</th>\n",
       "      <td>SUICIDES SILENCE</td>\n",
       "      <td>4.99</td>\n",
       "      <td>G</td>\n",
       "      <td>Sci-Fi</td>\n",
       "    </tr>\n",
       "  </tbody>\n",
       "</table>\n",
       "</div>"
      ],
      "text/plain": [
       "                  title  rate rating category\n",
       "0        ANNIE IDENTITY  0.99      G   Sci-Fi\n",
       "1       ARMAGEDDON LOST  0.99      G   Sci-Fi\n",
       "2  BARBARELLA STREETCAR  2.99      G   Sci-Fi\n",
       "3         CHEAPER CLYDE  0.99      G   Sci-Fi\n",
       "4         CITIZEN SHREK  0.99      G   Sci-Fi\n",
       "5   COLDBLOODED DARLING  4.99      G   Sci-Fi\n",
       "6       DAISY MENAGERIE  4.99      G   Sci-Fi\n",
       "7         GARDEN ISLAND  4.99      G   Sci-Fi\n",
       "8            MARRIED GO  2.99      G   Sci-Fi\n",
       "9      SUICIDES SILENCE  4.99      G   Sci-Fi"
      ]
     },
     "execution_count": 3,
     "metadata": {},
     "output_type": "execute_result"
    }
   ],
   "source": [
    "### BEGIN SOLUTION\n",
    "run_query(\"SELECT f.title AS title, f.rental_rate AS rate, f.rating AS rating, c.name AS category \\\n",
    "    FROM film AS f\\\n",
    "    JOIN film_category AS fc \\\n",
    "    ON f.film_id = fc.film_id\\\n",
    "    JOIN category AS c\\\n",
    "    ON fc.category_id = c.category_id\\\n",
    "    WHERE c.name = 'Sci-Fi' AND f.rating = 'G'\")\n",
    "### END SOLUTION "
   ]
  },
  {
   "cell_type": "markdown",
   "metadata": {
    "nbgrader": {
     "grade": true,
     "grade_id": "cell-4d7778cc0656873e",
     "locked": false,
     "points": 0,
     "schema_version": 3,
     "solution": true,
     "task": false
    }
   },
   "source": [
    "SQL syntax:\n",
    "\n",
    "```\n",
    "SELECT f.title AS title, f.rental_rate AS rate, f.rating AS rating, c.name AS category \n",
    "    FROM film AS f\n",
    "    JOIN film_category AS fc \n",
    "    ON f.film_id = fc.film_id\n",
    "    JOIN category AS c\n",
    "    ON fc.category_id = c.category_id\n",
    "    WHERE c.name = 'Sci-Fi' AND f.rating = 'G';\n",
    "```\n",
    "\n",
    "Answer:\n",
    "\n",
    "| title                | rate | rating | category |\n",
    "| :-- | :-- | :-- | :-- |\n",
    "| ANNIE IDENTITY       | 0.99 | G      | Sci-Fi   |\n",
    "| ARMAGEDDON LOST      | 0.99 | G      | Sci-Fi   |\n",
    "| BARBARELLA STREETCAR | 2.99 | G      | Sci-Fi   |\n",
    "| CHEAPER CLYDE        | 0.99 | G      | Sci-Fi   |\n",
    "| CITIZEN SHREK        | 0.99 | G      | Sci-Fi   |\n",
    "| COLDBLOODED DARLING  | 4.99 | G      | Sci-Fi   |\n",
    "| DAISY MENAGERIE      | 4.99 | G      | Sci-Fi   |\n",
    "| GARDEN ISLAND        | 4.99 | G      | Sci-Fi   |\n",
    "| MARRIED GO           | 2.99 | G      | Sci-Fi   |\n",
    "| SUICIDES SILENCE     | 4.99 | G      | Sci-Fi   |"
   ]
  },
  {
   "cell_type": "markdown",
   "metadata": {
    "nbgrader": {
     "grade": false,
     "grade_id": "cell-b98f0f4cdda22109",
     "locked": true,
     "schema_version": 3,
     "solution": false,
     "task": false
    }
   },
   "source": [
    "### Problem 4\n",
    "\n",
    "Some of the actors in the actor table have the same last names. Produce a table of last names of actors and counts of how many actors have that same last name (your table should have exactly the two columns \"last_name\" and \"count\").  Order the table first by counts in decreasing order and then alphabetically by last name and only display last names for cases where at least three actors share the same last name. "
   ]
  },
  {
   "cell_type": "code",
   "execution_count": 4,
   "metadata": {
    "nbgrader": {
     "grade": true,
     "grade_id": "cell-854871a8be7f0f20",
     "locked": false,
     "points": 4,
     "schema_version": 3,
     "solution": true,
     "task": false
    }
   },
   "outputs": [
    {
     "data": {
      "text/html": [
       "<div>\n",
       "<style scoped>\n",
       "    .dataframe tbody tr th:only-of-type {\n",
       "        vertical-align: middle;\n",
       "    }\n",
       "\n",
       "    .dataframe tbody tr th {\n",
       "        vertical-align: top;\n",
       "    }\n",
       "\n",
       "    .dataframe thead th {\n",
       "        text-align: right;\n",
       "    }\n",
       "</style>\n",
       "<table border=\"1\" class=\"dataframe\">\n",
       "  <thead>\n",
       "    <tr style=\"text-align: right;\">\n",
       "      <th></th>\n",
       "      <th>last_name</th>\n",
       "      <th>count</th>\n",
       "    </tr>\n",
       "  </thead>\n",
       "  <tbody>\n",
       "    <tr>\n",
       "      <th>0</th>\n",
       "      <td>KILMER</td>\n",
       "      <td>5</td>\n",
       "    </tr>\n",
       "    <tr>\n",
       "      <th>1</th>\n",
       "      <td>NOLTE</td>\n",
       "      <td>4</td>\n",
       "    </tr>\n",
       "    <tr>\n",
       "      <th>2</th>\n",
       "      <td>TEMPLE</td>\n",
       "      <td>4</td>\n",
       "    </tr>\n",
       "    <tr>\n",
       "      <th>3</th>\n",
       "      <td>AKROYD</td>\n",
       "      <td>3</td>\n",
       "    </tr>\n",
       "    <tr>\n",
       "      <th>4</th>\n",
       "      <td>ALLEN</td>\n",
       "      <td>3</td>\n",
       "    </tr>\n",
       "    <tr>\n",
       "      <th>5</th>\n",
       "      <td>BERRY</td>\n",
       "      <td>3</td>\n",
       "    </tr>\n",
       "    <tr>\n",
       "      <th>6</th>\n",
       "      <td>DAVIS</td>\n",
       "      <td>3</td>\n",
       "    </tr>\n",
       "    <tr>\n",
       "      <th>7</th>\n",
       "      <td>DEGENERES</td>\n",
       "      <td>3</td>\n",
       "    </tr>\n",
       "    <tr>\n",
       "      <th>8</th>\n",
       "      <td>GARLAND</td>\n",
       "      <td>3</td>\n",
       "    </tr>\n",
       "    <tr>\n",
       "      <th>9</th>\n",
       "      <td>GUINESS</td>\n",
       "      <td>3</td>\n",
       "    </tr>\n",
       "    <tr>\n",
       "      <th>10</th>\n",
       "      <td>HARRIS</td>\n",
       "      <td>3</td>\n",
       "    </tr>\n",
       "    <tr>\n",
       "      <th>11</th>\n",
       "      <td>HOFFMAN</td>\n",
       "      <td>3</td>\n",
       "    </tr>\n",
       "    <tr>\n",
       "      <th>12</th>\n",
       "      <td>HOPKINS</td>\n",
       "      <td>3</td>\n",
       "    </tr>\n",
       "    <tr>\n",
       "      <th>13</th>\n",
       "      <td>JOHANSSON</td>\n",
       "      <td>3</td>\n",
       "    </tr>\n",
       "    <tr>\n",
       "      <th>14</th>\n",
       "      <td>KEITEL</td>\n",
       "      <td>3</td>\n",
       "    </tr>\n",
       "    <tr>\n",
       "      <th>15</th>\n",
       "      <td>PECK</td>\n",
       "      <td>3</td>\n",
       "    </tr>\n",
       "    <tr>\n",
       "      <th>16</th>\n",
       "      <td>TORN</td>\n",
       "      <td>3</td>\n",
       "    </tr>\n",
       "    <tr>\n",
       "      <th>17</th>\n",
       "      <td>WILLIAMS</td>\n",
       "      <td>3</td>\n",
       "    </tr>\n",
       "    <tr>\n",
       "      <th>18</th>\n",
       "      <td>WILLIS</td>\n",
       "      <td>3</td>\n",
       "    </tr>\n",
       "    <tr>\n",
       "      <th>19</th>\n",
       "      <td>ZELLWEGER</td>\n",
       "      <td>3</td>\n",
       "    </tr>\n",
       "  </tbody>\n",
       "</table>\n",
       "</div>"
      ],
      "text/plain": [
       "    last_name  count\n",
       "0      KILMER      5\n",
       "1       NOLTE      4\n",
       "2      TEMPLE      4\n",
       "3      AKROYD      3\n",
       "4       ALLEN      3\n",
       "5       BERRY      3\n",
       "6       DAVIS      3\n",
       "7   DEGENERES      3\n",
       "8     GARLAND      3\n",
       "9     GUINESS      3\n",
       "10     HARRIS      3\n",
       "11    HOFFMAN      3\n",
       "12    HOPKINS      3\n",
       "13  JOHANSSON      3\n",
       "14     KEITEL      3\n",
       "15       PECK      3\n",
       "16       TORN      3\n",
       "17   WILLIAMS      3\n",
       "18     WILLIS      3\n",
       "19  ZELLWEGER      3"
      ]
     },
     "execution_count": 4,
     "metadata": {},
     "output_type": "execute_result"
    }
   ],
   "source": [
    "### BEGIN SOLUTION \n",
    "run_query(\"SELECT last_name, COUNT(*) AS 'count'  \\\n",
    "    FROM actor \\\n",
    "    GROUP BY last_name \\\n",
    "    HAVING count(*) >=3 \\\n",
    "    ORDER BY count(*) DESC, last_name\")\n",
    "### END SOLUTION "
   ]
  },
  {
   "cell_type": "markdown",
   "metadata": {
    "nbgrader": {
     "grade": true,
     "grade_id": "cell-050eafc94bd47578",
     "locked": false,
     "points": 0,
     "schema_version": 3,
     "solution": true,
     "task": false
    }
   },
   "source": [
    "SQL syntax:\n",
    "\n",
    "```\n",
    "SELECT last_name, COUNT(*) AS 'count'  \n",
    "    FROM actor \n",
    "    GROUP BY last_name \n",
    "    HAVING count(*) >=3 \n",
    "    ORDER BY count(*) DESC, last name;\n",
    "```\n",
    "\n",
    "Answer:\n",
    "\n",
    "| last_name | count |\n",
    "|:-- | :--|\n",
    "| KILMER    |     5 |\n",
    "| NOLTE     |     4 |\n",
    "| TEMPLE    |     4 |\n",
    "| AKROYD    |     3 |\n",
    "| ALLEN     |     3 |\n",
    "| BERRY     |     3 |\n",
    "| DAVIS     |     3 |\n",
    "| DEGENERES |     3 |\n",
    "| GARLAND   |     3 |\n",
    "| GUINESS   |     3 |\n",
    "| HARRIS    |     3 |\n",
    "| HOFFMAN   |     3 |\n",
    "| HOPKINS   |     3 |\n",
    "| JOHANSSON |     3 |\n",
    "| KEITEL    |     3 |\n",
    "| PECK      |     3 |\n",
    "| TORN      |     3 |\n",
    "| WILLIAMS  |     3 |\n",
    "| WILLIS    |     3 |\n",
    "| ZELLWEGER |     3 |"
   ]
  },
  {
   "cell_type": "markdown",
   "metadata": {
    "nbgrader": {
     "grade": false,
     "grade_id": "cell-67208fd461701212",
     "locked": true,
     "schema_version": 3,
     "solution": false,
     "task": false
    }
   },
   "source": [
    "### Problem 5\n",
    "\n",
    "Write SQL code to return the count of the number of copies of the film 'WESTWARD SEABISCUIT' that are in the inventory. Your return table should have just one line (I don't want to have to pick out the answer out of a large table manually). "
   ]
  },
  {
   "cell_type": "code",
   "execution_count": 5,
   "metadata": {
    "nbgrader": {
     "grade": true,
     "grade_id": "cell-fb3b7284b4a614c5",
     "locked": false,
     "points": 4,
     "schema_version": 3,
     "solution": true,
     "task": false
    }
   },
   "outputs": [
    {
     "data": {
      "text/html": [
       "<div>\n",
       "<style scoped>\n",
       "    .dataframe tbody tr th:only-of-type {\n",
       "        vertical-align: middle;\n",
       "    }\n",
       "\n",
       "    .dataframe tbody tr th {\n",
       "        vertical-align: top;\n",
       "    }\n",
       "\n",
       "    .dataframe thead th {\n",
       "        text-align: right;\n",
       "    }\n",
       "</style>\n",
       "<table border=\"1\" class=\"dataframe\">\n",
       "  <thead>\n",
       "    <tr style=\"text-align: right;\">\n",
       "      <th></th>\n",
       "      <th>title</th>\n",
       "      <th>count</th>\n",
       "    </tr>\n",
       "  </thead>\n",
       "  <tbody>\n",
       "    <tr>\n",
       "      <th>0</th>\n",
       "      <td>WESTWARD SEABISCUIT</td>\n",
       "      <td>7</td>\n",
       "    </tr>\n",
       "  </tbody>\n",
       "</table>\n",
       "</div>"
      ],
      "text/plain": [
       "                 title  count\n",
       "0  WESTWARD SEABISCUIT      7"
      ]
     },
     "execution_count": 5,
     "metadata": {},
     "output_type": "execute_result"
    }
   ],
   "source": [
    "### BEGIN SOLUTION \n",
    "run_query(\"SELECT f.title, COUNT(*) AS count\\\n",
    "    FROM film AS f\\\n",
    "    JOIN inventory as i\\\n",
    "    ON f.film_id = i.film_id\\\n",
    "    GROUP BY f.title\\\n",
    "    HAVING f.title = 'WESTWARD SEABISCUIT'\")\n",
    "### END SOLUTION "
   ]
  },
  {
   "cell_type": "markdown",
   "metadata": {
    "nbgrader": {
     "grade": true,
     "grade_id": "cell-af67d0fadd0cfdd7",
     "locked": false,
     "points": 0,
     "schema_version": 3,
     "solution": true,
     "task": false
    }
   },
   "source": [
    "SQL syntax:\n",
    "\n",
    "```\n",
    "SELECT f.title, COUNT(*) AS count\n",
    "    FROM film AS f\n",
    "    JOIN inventory as i\n",
    "    ON f.film_id = i.film_id\n",
    "    GROUP BY f.title\n",
    "    HAVING f.title = 'WESTWARD SEABISCUIT';\n",
    "```  \n",
    "\n",
    "Answer:\n",
    "\n",
    "| title               | count |\n",
    "|:-- |:-- |\n",
    "| WESTWARD SEABISCUIT |     7 |"
   ]
  }
 ],
 "metadata": {
  "celltoolbar": "Create Assignment",
  "kernelspec": {
   "display_name": "Python 3 (ipykernel)",
   "language": "python",
   "name": "python3"
  },
  "language_info": {
   "codemirror_mode": {
    "name": "ipython",
    "version": 3
   },
   "file_extension": ".py",
   "mimetype": "text/x-python",
   "name": "python",
   "nbconvert_exporter": "python",
   "pygments_lexer": "ipython3",
   "version": "3.9.7"
  }
 },
 "nbformat": 4,
 "nbformat_minor": 2
}
