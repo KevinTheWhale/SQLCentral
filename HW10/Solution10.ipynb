{
 "cells": [
  {
   "cell_type": "markdown",
   "metadata": {
    "nbgrader": {
     "grade": false,
     "grade_id": "cell-13b6f13920352efb",
     "locked": true,
     "schema_version": 3,
     "solution": false,
     "task": false
    },
    "slideshow": {
     "slide_type": "slide"
    }
   },
   "source": [
    "# Solution for Homework 10\n",
    "\n",
    "In this assignment, we're working with SQLite3. We'll also be working with the SAKILA database. This database contains transactions from a fictional chain of DVD rental stores. It was created in 2006 by Mike Hillyer and has since been used as an example database in many textbooks and on several SQL \"playground\" websites. \n",
    "\n",
    "Download the file \"sqlite-sakila.db\" from Canvas. Save the file in the same directory where you have saved this notebook (or in some other directory for which you know the path). You can find an ER-schema of the Sakila database on Canvas. Look at the ER-schema to understand the structure of the Sakila database. "
   ]
  },
  {
   "cell_type": "markdown",
   "metadata": {
    "nbgrader": {
     "grade": false,
     "grade_id": "cell-43ad5641050c77a3",
     "locked": true,
     "schema_version": 3,
     "solution": false,
     "task": false
    }
   },
   "source": [
    "For all problems below, if you are not able to write `SQLite3` code to obtain results, try to write at least the corresponding SQL code statement. If you can't run the code, you won't be able to get answers, of course, but you could at least get partial credit for your SQL statements. \n",
    "\n",
    "**Example Question:** How many different languages can you find in the `language` table? \n",
    "\n",
    "**Example Perfect Answer:**"
   ]
  },
  {
   "cell_type": "code",
   "execution_count": 1,
   "metadata": {
    "nbgrader": {
     "grade": false,
     "grade_id": "cell-6ade3f21d7dc2dc7",
     "locked": true,
     "schema_version": 3,
     "solution": false,
     "task": false
    }
   },
   "outputs": [
    {
     "data": {
      "text/html": [
       "<div>\n",
       "<style scoped>\n",
       "    .dataframe tbody tr th:only-of-type {\n",
       "        vertical-align: middle;\n",
       "    }\n",
       "\n",
       "    .dataframe tbody tr th {\n",
       "        vertical-align: top;\n",
       "    }\n",
       "\n",
       "    .dataframe thead th {\n",
       "        text-align: right;\n",
       "    }\n",
       "</style>\n",
       "<table border=\"1\" class=\"dataframe\">\n",
       "  <thead>\n",
       "    <tr style=\"text-align: right;\">\n",
       "      <th></th>\n",
       "      <th>language_id</th>\n",
       "      <th>name</th>\n",
       "      <th>last_update</th>\n",
       "    </tr>\n",
       "  </thead>\n",
       "  <tbody>\n",
       "    <tr>\n",
       "      <th>0</th>\n",
       "      <td>1</td>\n",
       "      <td>English</td>\n",
       "      <td>2021-03-06 15:51:48</td>\n",
       "    </tr>\n",
       "    <tr>\n",
       "      <th>1</th>\n",
       "      <td>2</td>\n",
       "      <td>Italian</td>\n",
       "      <td>2021-03-06 15:51:48</td>\n",
       "    </tr>\n",
       "    <tr>\n",
       "      <th>2</th>\n",
       "      <td>3</td>\n",
       "      <td>Japanese</td>\n",
       "      <td>2021-03-06 15:51:48</td>\n",
       "    </tr>\n",
       "    <tr>\n",
       "      <th>3</th>\n",
       "      <td>4</td>\n",
       "      <td>Mandarin</td>\n",
       "      <td>2021-03-06 15:51:48</td>\n",
       "    </tr>\n",
       "    <tr>\n",
       "      <th>4</th>\n",
       "      <td>5</td>\n",
       "      <td>French</td>\n",
       "      <td>2021-03-06 15:51:48</td>\n",
       "    </tr>\n",
       "    <tr>\n",
       "      <th>5</th>\n",
       "      <td>6</td>\n",
       "      <td>German</td>\n",
       "      <td>2021-03-06 15:51:48</td>\n",
       "    </tr>\n",
       "  </tbody>\n",
       "</table>\n",
       "</div>"
      ],
      "text/plain": [
       "   language_id      name          last_update\n",
       "0            1   English  2021-03-06 15:51:48\n",
       "1            2   Italian  2021-03-06 15:51:48\n",
       "2            3  Japanese  2021-03-06 15:51:48\n",
       "3            4  Mandarin  2021-03-06 15:51:48\n",
       "4            5    French  2021-03-06 15:51:48\n",
       "5            6    German  2021-03-06 15:51:48"
      ]
     },
     "execution_count": 1,
     "metadata": {},
     "output_type": "execute_result"
    }
   ],
   "source": [
    "import sqlite3\n",
    "import pandas as pd\n",
    "\n",
    "def run_query(q):\n",
    "    with sqlite3.connect(\"sqlite-sakila.db\") as con:\n",
    "            # Change the path to where YOU have saved the sqlite-sakila.db file\n",
    "            # IF you have saved the file in the same folder as this notebook, the above should work without changes\n",
    "        return pd.read_sql(q, con)\n",
    "\n",
    "run_query(\"SELECT * FROM language\")"
   ]
  },
  {
   "cell_type": "markdown",
   "metadata": {
    "nbgrader": {
     "grade": false,
     "grade_id": "cell-ef95a83c78c8c1ad",
     "locked": true,
     "schema_version": 3,
     "solution": false,
     "task": false
    }
   },
   "source": [
    "Answer: There are six languages (English, Italian, Japanese, Mandarin, French, and German). \n",
    "\n",
    "**Example Answer (for partial credit):**\n",
    "\n",
    "SQL code: \n",
    "```SELECT * FROM language;``` \n",
    "\n",
    "Then count how many entries are in that table. "
   ]
  },
  {
   "cell_type": "markdown",
   "metadata": {
    "nbgrader": {
     "grade": false,
     "grade_id": "cell-244d094e3fa3d94c",
     "locked": true,
     "schema_version": 3,
     "solution": false,
     "task": false
    }
   },
   "source": [
    "### Problem 1\n",
    "\n",
    "(a) Find the SQL statement that was used to create the `rental` table. Print the SQL statement to the console. \n",
    "Note that the `\\n` in the SQL statement are line breaks in Python. Your print statement should be nicely formatted (each variable in a new row) and there should be no more `\\n` visible in your print statement. "
   ]
  },
  {
   "cell_type": "code",
   "execution_count": 2,
   "metadata": {
    "nbgrader": {
     "grade": true,
     "grade_id": "cell-e11244a40f2bf93d",
     "locked": false,
     "points": 3,
     "schema_version": 3,
     "solution": true,
     "task": false
    }
   },
   "outputs": [
    {
     "name": "stdout",
     "output_type": "stream",
     "text": [
      "CREATE TABLE rental (\n",
      "  rental_id INT NOT NULL,\n",
      "  rental_date TIMESTAMP NOT NULL,\n",
      "  inventory_id INT  NOT NULL,\n",
      "  customer_id INT  NOT NULL,\n",
      "  return_date TIMESTAMP DEFAULT NULL,\n",
      "  staff_id SMALLINT  NOT NULL,\n",
      "  last_update TIMESTAMP NOT NULL,\n",
      "  PRIMARY KEY (rental_id),\n",
      "  CONSTRAINT fk_rental_staff FOREIGN KEY (staff_id) REFERENCES staff (staff_id) ,\n",
      "  CONSTRAINT fk_rental_inventory FOREIGN KEY (inventory_id) REFERENCES inventory (inventory_id) ,\n",
      "  CONSTRAINT fk_rental_customer FOREIGN KEY (customer_id) REFERENCES customer (customer_id)\n",
      ")\n"
     ]
    }
   ],
   "source": [
    "print(run_query(\"SELECT sql FROM sqlite_schema WHERE name =='rental'\").values[0][0])"
   ]
  },
  {
   "cell_type": "markdown",
   "metadata": {
    "nbgrader": {
     "grade": false,
     "grade_id": "cell-ed7955a4d4cf4360",
     "locked": true,
     "schema_version": 3,
     "solution": false,
     "task": false
    }
   },
   "source": [
    "(b) Describe the `rental` table:\n",
    "* How many variable columns does that table have (according to the SQL command)? \n",
    "* What is the primary key of the `Rental` table? \n",
    "* How many foreign keys are there? Which tables do they link to? \n",
    "* What are the variable types of the variables `rental_date` and `return_date`? \n",
    "* What does the `NOT NULL` and `DEFAULT NULL` statements mean, respectively, that appear after `rental_date` and `return_date`? "
   ]
  },
  {
   "cell_type": "markdown",
   "metadata": {
    "nbgrader": {
     "grade": true,
     "grade_id": "cell-dc0d7817fba267d9",
     "locked": false,
     "points": 2,
     "schema_version": 3,
     "solution": true,
     "task": false
    }
   },
   "source": [
    "SQL Code: ```SELECT sql FROM sqlite_schema WHERE name =='rental';```\n",
    "\n",
    "* How many variable columns does that table have (according to the SQL command)? \n",
    "\n",
    "Answer: 7 (even though the ER schema only shows 6) The 7th variable is `last_update`. \n",
    "* What is the primary key of the `Rental` table? \n",
    "\n",
    "Answer: The primary key is `rental_id`.\n",
    "* How many foreign keys are there? Which tables do they link to? \n",
    "\n",
    "Answer: Three foreign keys: `staff_id` links to the staff table, `inventory_id` links to the inventory table, and `customer_id` links to the customer table. \n",
    "* What are the variable types of the variables `rental_date` and `return_date`?\n",
    "\n",
    "  Answer: TIMESTAMP\n",
    "* What does the `NOT NULL` and `DEFAULT NULL` statements mean, respectively, that appear after `rental_date` and `return_date`? \n",
    "\n",
    "Answer: When data is entered into the table, it's ok to leave the `return_date` information (which may be unknown at the time of checkout) blank. "
   ]
  },
  {
   "cell_type": "markdown",
   "metadata": {
    "nbgrader": {
     "grade": false,
     "grade_id": "cell-8c88a2a9decfffad",
     "locked": true,
     "schema_version": 3,
     "solution": false,
     "task": false
    }
   },
   "source": [
    "### Problem 2\n",
    "\n",
    "What are the variable types of the variables `staff_id`, and `rental_id` in the `rental` table, respectively? Why is it useful or necessary to use different variable types for these three variables? Why can't they both be stored as tinyint's for example? "
   ]
  },
  {
   "cell_type": "markdown",
   "metadata": {
    "nbgrader": {
     "grade": true,
     "grade_id": "cell-0444b4f6f923a575",
     "locked": false,
     "points": 2,
     "schema_version": 3,
     "solution": true,
     "task": false
    }
   },
   "source": [
    "The variable types of `staff_id` and `rental_id` are smallint, and int (both unsigned). They differ by how large the integer values can be that can be stored under these variables. There are only two different \"employees\" in this fake database (staff_id 1 and 2) and hence we could get away with tiny integers. However, there are a little over 16k rental transactions. While the latter would have (just barely) fitted in mediumint format, the int-format gives the database room to \"grow\" and record future transactions. "
   ]
  },
  {
   "cell_type": "markdown",
   "metadata": {
    "nbgrader": {
     "grade": false,
     "grade_id": "cell-ce28e85e08ef66db",
     "locked": true,
     "schema_version": 3,
     "solution": false,
     "task": false
    }
   },
   "source": [
    "### Problem 3\n",
    "\n",
    "The primary key of the `actor` table (which is `actor_id`) does not auto-increment. There are currently 200 actors in the `actor` table. Modify the `actor` table to list your own first and last name under `actor_id` 201. Use `date('now')` to enter the current time and date. \n",
    "\n",
    "Then print out all rows of the actor table for actors with the same last name as yours. "
   ]
  },
  {
   "cell_type": "code",
   "execution_count": 3,
   "metadata": {
    "nbgrader": {
     "grade": true,
     "grade_id": "cell-1169b95212a55283",
     "locked": false,
     "points": 3,
     "schema_version": 3,
     "solution": true,
     "task": false
    }
   },
   "outputs": [
    {
     "data": {
      "text/html": [
       "<div>\n",
       "<style scoped>\n",
       "    .dataframe tbody tr th:only-of-type {\n",
       "        vertical-align: middle;\n",
       "    }\n",
       "\n",
       "    .dataframe tbody tr th {\n",
       "        vertical-align: top;\n",
       "    }\n",
       "\n",
       "    .dataframe thead th {\n",
       "        text-align: right;\n",
       "    }\n",
       "</style>\n",
       "<table border=\"1\" class=\"dataframe\">\n",
       "  <thead>\n",
       "    <tr style=\"text-align: right;\">\n",
       "      <th></th>\n",
       "      <th>actor_id</th>\n",
       "      <th>first_name</th>\n",
       "      <th>last_name</th>\n",
       "      <th>last_update</th>\n",
       "    </tr>\n",
       "  </thead>\n",
       "  <tbody>\n",
       "    <tr>\n",
       "      <th>0</th>\n",
       "      <td>201</td>\n",
       "      <td>MARTINA</td>\n",
       "      <td>BREMER</td>\n",
       "      <td>2023-04-19 19:37:44</td>\n",
       "    </tr>\n",
       "  </tbody>\n",
       "</table>\n",
       "</div>"
      ],
      "text/plain": [
       "   actor_id first_name last_name          last_update\n",
       "0       201    MARTINA    BREMER  2023-04-19 19:37:44"
      ]
     },
     "metadata": {},
     "output_type": "display_data"
    }
   ],
   "source": [
    "con = sqlite3.connect(\"sqlite-sakila.db\")\n",
    "cur = con.cursor()\n",
    "cur.execute(\"DELETE FROM actor WHERE (actor_id==201)\") \n",
    "        # adding in this line, so that you can try out code more than once during development\n",
    "\n",
    "cur.execute(\"INSERT INTO actor (actor_id, first_name, last_name, last_update) \\\n",
    "    VALUES (201, 'MARTINA', 'BREMER', date('now'))\")\n",
    "con.commit()\n",
    "\n",
    "display(pd.read_sql(\"SELECT * FROM actor WHERE last_name ='BREMER'\", con))\n",
    "# Note that you should be using your own name instead of mine...\n",
    "\n",
    "con.close()"
   ]
  },
  {
   "cell_type": "markdown",
   "metadata": {
    "nbgrader": {
     "grade": false,
     "grade_id": "cell-cab97e36f9708a21",
     "locked": true,
     "schema_version": 3,
     "solution": false,
     "task": false
    }
   },
   "source": [
    "**Optional:** If you can't get your SQLite3 code to work, leave the SQL statement(s) you would use for the above tasks below. "
   ]
  },
  {
   "cell_type": "markdown",
   "metadata": {
    "nbgrader": {
     "grade": true,
     "grade_id": "cell-4d7778cc0656873e",
     "locked": false,
     "points": 0,
     "schema_version": 3,
     "solution": true,
     "task": false
    }
   },
   "source": [
    "SQL code:\n",
    "\n",
    "```\n",
    "INSERT INTO actor  \n",
    "    (actor_id, first_name, last_name, last_update) \n",
    "    VALUES (201, 'MARTINA', 'BREMER', date('now'));\n",
    "\n",
    "SELECT * FROM actor WHERE last_name = 'BREMER;\n",
    "```\n"
   ]
  },
  {
   "cell_type": "markdown",
   "metadata": {
    "nbgrader": {
     "grade": false,
     "grade_id": "cell-b98f0f4cdda22109",
     "locked": true,
     "schema_version": 3,
     "solution": false,
     "task": false
    }
   },
   "source": [
    "### Problem 4\n",
    "\n",
    "(a) Use Python to extract the columns `staff_id`, `amount`, and `payment_date` from the `Payment` table. \n",
    "Store these data in a Pandas data frame and display the data frame to the console for the grader to see."
   ]
  },
  {
   "cell_type": "code",
   "execution_count": 4,
   "metadata": {
    "nbgrader": {
     "grade": true,
     "grade_id": "cell-050eafc94bd47578",
     "locked": false,
     "points": 5,
     "schema_version": 3,
     "solution": true,
     "task": false
    }
   },
   "outputs": [
    {
     "data": {
      "text/html": [
       "<div>\n",
       "<style scoped>\n",
       "    .dataframe tbody tr th:only-of-type {\n",
       "        vertical-align: middle;\n",
       "    }\n",
       "\n",
       "    .dataframe tbody tr th {\n",
       "        vertical-align: top;\n",
       "    }\n",
       "\n",
       "    .dataframe thead th {\n",
       "        text-align: right;\n",
       "    }\n",
       "</style>\n",
       "<table border=\"1\" class=\"dataframe\">\n",
       "  <thead>\n",
       "    <tr style=\"text-align: right;\">\n",
       "      <th></th>\n",
       "      <th>staff_id</th>\n",
       "      <th>amount</th>\n",
       "      <th>payment_date</th>\n",
       "    </tr>\n",
       "  </thead>\n",
       "  <tbody>\n",
       "    <tr>\n",
       "      <th>0</th>\n",
       "      <td>1</td>\n",
       "      <td>2.99</td>\n",
       "      <td>2005-05-24 22:53:30.000</td>\n",
       "    </tr>\n",
       "    <tr>\n",
       "      <th>1</th>\n",
       "      <td>2</td>\n",
       "      <td>2.99</td>\n",
       "      <td>2005-05-24 22:54:33.000</td>\n",
       "    </tr>\n",
       "    <tr>\n",
       "      <th>2</th>\n",
       "      <td>2</td>\n",
       "      <td>3.99</td>\n",
       "      <td>2005-05-24 23:03:39.000</td>\n",
       "    </tr>\n",
       "    <tr>\n",
       "      <th>3</th>\n",
       "      <td>1</td>\n",
       "      <td>4.99</td>\n",
       "      <td>2005-05-24 23:04:41.000</td>\n",
       "    </tr>\n",
       "    <tr>\n",
       "      <th>4</th>\n",
       "      <td>1</td>\n",
       "      <td>6.99</td>\n",
       "      <td>2005-05-24 23:05:21.000</td>\n",
       "    </tr>\n",
       "    <tr>\n",
       "      <th>...</th>\n",
       "      <td>...</td>\n",
       "      <td>...</td>\n",
       "      <td>...</td>\n",
       "    </tr>\n",
       "    <tr>\n",
       "      <th>16044</th>\n",
       "      <td>1</td>\n",
       "      <td>0.99</td>\n",
       "      <td>2006-02-14 15:16:03.000</td>\n",
       "    </tr>\n",
       "    <tr>\n",
       "      <th>16045</th>\n",
       "      <td>2</td>\n",
       "      <td>2.99</td>\n",
       "      <td>2006-02-14 15:16:03.000</td>\n",
       "    </tr>\n",
       "    <tr>\n",
       "      <th>16046</th>\n",
       "      <td>2</td>\n",
       "      <td>0.99</td>\n",
       "      <td>2006-02-14 15:16:03.000</td>\n",
       "    </tr>\n",
       "    <tr>\n",
       "      <th>16047</th>\n",
       "      <td>1</td>\n",
       "      <td>0.99</td>\n",
       "      <td>2006-02-14 15:16:03.000</td>\n",
       "    </tr>\n",
       "    <tr>\n",
       "      <th>16048</th>\n",
       "      <td>1</td>\n",
       "      <td>4.99</td>\n",
       "      <td>2006-02-14 15:16:03.000</td>\n",
       "    </tr>\n",
       "  </tbody>\n",
       "</table>\n",
       "<p>16049 rows × 3 columns</p>\n",
       "</div>"
      ],
      "text/plain": [
       "       staff_id  amount             payment_date\n",
       "0             1    2.99  2005-05-24 22:53:30.000\n",
       "1             2    2.99  2005-05-24 22:54:33.000\n",
       "2             2    3.99  2005-05-24 23:03:39.000\n",
       "3             1    4.99  2005-05-24 23:04:41.000\n",
       "4             1    6.99  2005-05-24 23:05:21.000\n",
       "...         ...     ...                      ...\n",
       "16044         1    0.99  2006-02-14 15:16:03.000\n",
       "16045         2    2.99  2006-02-14 15:16:03.000\n",
       "16046         2    0.99  2006-02-14 15:16:03.000\n",
       "16047         1    0.99  2006-02-14 15:16:03.000\n",
       "16048         1    4.99  2006-02-14 15:16:03.000\n",
       "\n",
       "[16049 rows x 3 columns]"
      ]
     },
     "metadata": {},
     "output_type": "display_data"
    }
   ],
   "source": [
    "df = run_query(\"SELECT staff_id, amount, payment_date FROM Payment ORDER BY payment_date\")\n",
    "display(df)"
   ]
  },
  {
   "cell_type": "markdown",
   "metadata": {
    "nbgrader": {
     "grade": false,
     "grade_id": "cell-27b5b37d92169b17",
     "locked": true,
     "schema_version": 3,
     "solution": false,
     "task": false
    }
   },
   "source": [
    "**Optional:** If you can't get your SQLite3 code to work, leave the SQL statement(s) you would use for the above tasks below. "
   ]
  },
  {
   "cell_type": "markdown",
   "metadata": {
    "nbgrader": {
     "grade": true,
     "grade_id": "cell-eb4128cd7f237a53",
     "locked": false,
     "points": 0,
     "schema_version": 3,
     "solution": true,
     "task": false
    }
   },
   "source": [
    "```\n",
    "SELECT staff_id, amount, payment_date FROM Payment ORDER BY payment_date;\n",
    "```"
   ]
  },
  {
   "cell_type": "markdown",
   "metadata": {
    "nbgrader": {
     "grade": false,
     "grade_id": "cell-96f9e625934464af",
     "locked": true,
     "schema_version": 3,
     "solution": false,
     "task": false
    }
   },
   "source": [
    "(b) For the dataframe created in (a), take the date values and use either string formating or the [`pd.DatetimeIndex()` method](https://pandas.pydata.org/docs/reference/api/pandas.DatetimeIndex.html)  to extract just the month and the year of the transaction. Store both in separate columns of the data frame. \n",
    "\n",
    "Use groupby to find the total monthly transaction amounts, separately for each employee. \n",
    "\n",
    "Use Matplotlib to create a line-plot that shows the total transaction amount per employee per month as a function of time. Label the x-axis with the appropriate month/year combination and include one line per employee. Include a legend to indicate which line belongs to which employee. You can find an image on Canvas with an example of what your graph should look like. "
   ]
  },
  {
   "cell_type": "code",
   "execution_count": 5,
   "metadata": {
    "nbgrader": {
     "grade": true,
     "grade_id": "cell-853bdbab963973b8",
     "locked": false,
     "points": 5,
     "schema_version": 3,
     "solution": true,
     "task": false
    }
   },
   "outputs": [
    {
     "data": {
      "image/png": "[encoded data removed]",
      "text/plain": [
       "<Figure size 640x480 with 1 Axes>"
      ]
     },
     "metadata": {},
     "output_type": "display_data"
    }
   ],
   "source": [
    "import matplotlib.pyplot as plt\n",
    "\n",
    "df_new = df.copy()\n",
    "\n",
    "df_new['Month'] = pd.DatetimeIndex(df_new['payment_date']).month\n",
    "df_new['Year'] = pd.DatetimeIndex(df_new['payment_date']).year\n",
    "\n",
    "df_new.drop(['payment_date'], axis = 1)\n",
    "\n",
    "df_new = df_new.groupby(['Year', 'Month', 'staff_id']).sum().unstack(-1)\n",
    "df_new.reset_index(inplace = True)\n",
    "\n",
    "df_new['date'] = df_new.Year.astype(str) + \"-\" + df_new.Month.astype(str)\n",
    "\n",
    "fig, ax = plt.subplots()\n",
    "for staff in range(1,3):\n",
    "    ax.plot(df_new.date, df_new.amount[staff], label = \"employee \" + str(staff))\n",
    "    \n",
    "ax.set_ylabel(\"Total monthly amount in \\$\")\n",
    "ax.set_xlabel(\"Month\")\n",
    "ax.legend(); \n",
    "\n",
    "#fig.savefig('Sakila_lineplot.png')"
   ]
  }
 ],
 "metadata": {
  "celltoolbar": "Create Assignment",
  "kernelspec": {
   "display_name": "Python 3 (ipykernel)",
   "language": "python",
   "name": "python3"
  },
  "language_info": {
   "codemirror_mode": {
    "name": "ipython",
    "version": 3
   },
   "file_extension": ".py",
   "mimetype": "text/x-python",
   "name": "python",
   "nbconvert_exporter": "python",
   "pygments_lexer": "ipython3",
   "version": "3.9.13"
  }
 },
 "nbformat": 4,
 "nbformat_minor": 2
}
