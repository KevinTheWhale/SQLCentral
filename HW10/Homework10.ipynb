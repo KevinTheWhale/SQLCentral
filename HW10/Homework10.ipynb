{
 "cells": [
  {
   "cell_type": "markdown",
   "metadata": {},
   "source": [
    "Before you turn this homework in, make sure everything runs as expected. First, **restart the kernel** and then **run all cells** (in the menubar, select Kernel$\\rightarrow$Restart \\& Run all). If you get error messages, the grader will get the same errors and won't be able to grade your work. \n",
    "\n",
    "Make sure you fill in any place that says `YOUR CODE HERE` or \"YOUR ANSWER HERE\". You may delete the line(s) that say \"**raise** NotImplementedError()\" and replace them with your actual work. Write all your work in the cells provided in this notebook. **DO NOT** add or delete any cells. \n",
    "\n",
    "Please fill in your name in the cell below."
   ]
  },
  {
   "cell_type": "code",
   "execution_count": 1,
   "metadata": {},
   "outputs": [],
   "source": [
    "NAME = \"Kevin Pham\""
   ]
  },
  {
   "cell_type": "markdown",
   "metadata": {},
   "source": [
    "---"
   ]
  },
  {
   "cell_type": "markdown",
   "metadata": {
    "deletable": false,
    "editable": false,
    "nbgrader": {
     "cell_type": "markdown",
     "checksum": "3093507e6c6154111af7caf6ade33dfd",
     "grade": false,
     "grade_id": "cell-13b6f13920352efb",
     "locked": true,
     "schema_version": 3,
     "solution": false,
     "task": false
    },
    "slideshow": {
     "slide_type": "slide"
    }
   },
   "source": [
    "# Homework 10\n",
    "\n",
    "In this assignment, we're working with SQLite3. We'll also be working with the SAKILA database. This database contains transactions from a fictional chain of DVD rental stores. It was created in 2006 by Mike Hillyer and has since been used as an example database in many textbooks and on several SQL \"playground\" websites. \n",
    "\n",
    "Download the file \"sqlite-sakila.db\" from Canvas. Save the file in the same directory where you have saved this notebook (or in some other directory for which you know the path). You can find an ER-schema of the Sakila database on Canvas. Look at the ER-schema to understand the structure of the Sakila database. "
   ]
  },
  {
   "cell_type": "markdown",
   "metadata": {
    "deletable": false,
    "editable": false,
    "nbgrader": {
     "cell_type": "markdown",
     "checksum": "727061e35d0485a105ef1f690f0093cd",
     "grade": false,
     "grade_id": "cell-43ad5641050c77a3",
     "locked": true,
     "schema_version": 3,
     "solution": false,
     "task": false
    }
   },
   "source": [
    "For all problems below, if you are not able to write `SQLite3` code to obtain results, try to write at least the corresponding SQL code statement. If you can't run the code, you won't be able to get answers, of course, but you could at least get partial credit for your SQL statements. \n",
    "\n",
    "**Example Question:** How many different languages can you find in the `language` table? \n",
    "\n",
    "**Example Perfect Answer:**"
   ]
  },
  {
   "cell_type": "code",
   "execution_count": 2,
   "metadata": {
    "deletable": false,
    "editable": false,
    "nbgrader": {
     "cell_type": "code",
     "checksum": "aaab62d5a4ae8afe4614dbd14457c5e7",
     "grade": false,
     "grade_id": "cell-6ade3f21d7dc2dc7",
     "locked": true,
     "schema_version": 3,
     "solution": false,
     "task": false
    }
   },
   "outputs": [
    {
     "data": {
      "text/html": [
       "<div>\n",
       "<style scoped>\n",
       "    .dataframe tbody tr th:only-of-type {\n",
       "        vertical-align: middle;\n",
       "    }\n",
       "\n",
       "    .dataframe tbody tr th {\n",
       "        vertical-align: top;\n",
       "    }\n",
       "\n",
       "    .dataframe thead th {\n",
       "        text-align: right;\n",
       "    }\n",
       "</style>\n",
       "<table border=\"1\" class=\"dataframe\">\n",
       "  <thead>\n",
       "    <tr style=\"text-align: right;\">\n",
       "      <th></th>\n",
       "      <th>language_id</th>\n",
       "      <th>name</th>\n",
       "      <th>last_update</th>\n",
       "    </tr>\n",
       "  </thead>\n",
       "  <tbody>\n",
       "    <tr>\n",
       "      <th>0</th>\n",
       "      <td>1</td>\n",
       "      <td>English</td>\n",
       "      <td>2021-03-06 15:51:48</td>\n",
       "    </tr>\n",
       "    <tr>\n",
       "      <th>1</th>\n",
       "      <td>2</td>\n",
       "      <td>Italian</td>\n",
       "      <td>2021-03-06 15:51:48</td>\n",
       "    </tr>\n",
       "    <tr>\n",
       "      <th>2</th>\n",
       "      <td>3</td>\n",
       "      <td>Japanese</td>\n",
       "      <td>2021-03-06 15:51:48</td>\n",
       "    </tr>\n",
       "    <tr>\n",
       "      <th>3</th>\n",
       "      <td>4</td>\n",
       "      <td>Mandarin</td>\n",
       "      <td>2021-03-06 15:51:48</td>\n",
       "    </tr>\n",
       "    <tr>\n",
       "      <th>4</th>\n",
       "      <td>5</td>\n",
       "      <td>French</td>\n",
       "      <td>2021-03-06 15:51:48</td>\n",
       "    </tr>\n",
       "    <tr>\n",
       "      <th>5</th>\n",
       "      <td>6</td>\n",
       "      <td>German</td>\n",
       "      <td>2021-03-06 15:51:48</td>\n",
       "    </tr>\n",
       "  </tbody>\n",
       "</table>\n",
       "</div>"
      ],
      "text/plain": [
       "   language_id      name          last_update\n",
       "0            1   English  2021-03-06 15:51:48\n",
       "1            2   Italian  2021-03-06 15:51:48\n",
       "2            3  Japanese  2021-03-06 15:51:48\n",
       "3            4  Mandarin  2021-03-06 15:51:48\n",
       "4            5    French  2021-03-06 15:51:48\n",
       "5            6    German  2021-03-06 15:51:48"
      ]
     },
     "execution_count": 2,
     "metadata": {},
     "output_type": "execute_result"
    }
   ],
   "source": [
    "import sqlite3\n",
    "import pandas as pd\n",
    "\n",
    "def run_query(q):\n",
    "    with sqlite3.connect(\"sqlite-sakila.db\") as con:\n",
    "            # Change the path to where YOU have saved the sqlite-sakila.db file\n",
    "            # IF you have saved the file in the same folder as this notebook, the above should work without changes\n",
    "        return pd.read_sql(q, con)\n",
    "\n",
    "run_query(\"SELECT * FROM language\")"
   ]
  },
  {
   "cell_type": "markdown",
   "metadata": {
    "deletable": false,
    "editable": false,
    "nbgrader": {
     "cell_type": "markdown",
     "checksum": "e3e03eba89eda9513456a9c0d4a87cd4",
     "grade": false,
     "grade_id": "cell-ef95a83c78c8c1ad",
     "locked": true,
     "schema_version": 3,
     "solution": false,
     "task": false
    }
   },
   "source": [
    "Answer: There are six languages (English, Italian, Japanese, Mandarin, French, and German). \n",
    "\n",
    "**Example Answer (for partial credit):**\n",
    "\n",
    "SQL code: \n",
    "```SELECT * FROM language;``` \n",
    "\n",
    "Then count how many entries are in that table. "
   ]
  },
  {
   "cell_type": "markdown",
   "metadata": {
    "deletable": false,
    "editable": false,
    "nbgrader": {
     "cell_type": "markdown",
     "checksum": "f464eb958fbda7fa814a7abca9ce9aec",
     "grade": false,
     "grade_id": "cell-244d094e3fa3d94c",
     "locked": true,
     "schema_version": 3,
     "solution": false,
     "task": false
    }
   },
   "source": [
    "### Problem 1\n",
    "\n",
    "(a) Find the SQL statement that was used to create the `rental` table. Print the SQL statement to the console. \n",
    "Note that the `\\n` in the SQL statement are line breaks in Python. Your print statement should be nicely formatted (each variable in a new row) and there should be no more `\\n` visible in your print statement. "
   ]
  },
  {
   "cell_type": "code",
   "execution_count": 3,
   "metadata": {
    "deletable": false,
    "nbgrader": {
     "cell_type": "code",
     "checksum": "7db52a036a3f423a7f9fdb1c139fa2c8",
     "grade": true,
     "grade_id": "cell-e11244a40f2bf93d",
     "locked": false,
     "points": 3,
     "schema_version": 3,
     "solution": true,
     "task": false
    },
    "scrolled": true
   },
   "outputs": [
    {
     "name": "stdout",
     "output_type": "stream",
     "text": [
      "CREATE TABLE rental (\n",
      "  rental_id INT NOT NULL,\n",
      "  rental_date TIMESTAMP NOT NULL,\n",
      "  inventory_id INT  NOT NULL,\n",
      "  customer_id INT  NOT NULL,\n",
      "  return_date TIMESTAMP DEFAULT NULL,\n",
      "  staff_id SMALLINT  NOT NULL,\n",
      "  last_update TIMESTAMP NOT NULL,\n",
      "  PRIMARY KEY (rental_id),\n",
      "  CONSTRAINT fk_rental_staff FOREIGN KEY (staff_id) REFERENCES staff (staff_id) ,\n",
      "  CONSTRAINT fk_rental_inventory FOREIGN KEY (inventory_id) REFERENCES inventory (inventory_id) ,\n",
      "  CONSTRAINT fk_rental_customer FOREIGN KEY (customer_id) REFERENCES customer (customer_id)\n",
      ")\n"
     ]
    }
   ],
   "source": [
    "# COMPLETE \n",
    "# YOUR CODE HERE\n",
    "# Display is the NEW PRINT STATEMENT.\n",
    "\n",
    "con = sqlite3.connect(\"sqlite-sakila.db\") # manual open the connection\n",
    "cur = con.cursor() # create a cursor\n",
    "cur.execute(\"SELECT name,sql FROM sqlite_schema WHERE name == 'rental'\") # find the right criteria under sqlite_schema relation\n",
    "print(cur.fetchall()[0][1]) # cur.fetchall is a LIST, find the only relevant element in it\n",
    "con.close() # close connection when done.\n",
    "\n",
    "# raise NotImplementedError()"
   ]
  },
  {
   "cell_type": "markdown",
   "metadata": {
    "deletable": false,
    "editable": false,
    "nbgrader": {
     "cell_type": "markdown",
     "checksum": "0988c1dabd876a34022e457e93be3291",
     "grade": false,
     "grade_id": "cell-ed7955a4d4cf4360",
     "locked": true,
     "schema_version": 3,
     "solution": false,
     "task": false
    }
   },
   "source": [
    "(b) Describe the `rental` table:\n",
    "* How many variable columns does that table have (according to the SQL command)? \n",
    "* What is the primary key of the `Rental` table? \n",
    "* How many foreign keys are there? Which tables do they link to? \n",
    "* What are the variable types of the variables `rental_date` and `return_date`? \n",
    "* What does the `NOT NULL` and `DEFAULT NULL` statements mean, respectively, that appear after `rental_date` and `return_date`? "
   ]
  },
  {
   "cell_type": "markdown",
   "metadata": {
    "deletable": false,
    "nbgrader": {
     "cell_type": "markdown",
     "checksum": "6287dcd7456f112f8d178943e08aa956",
     "grade": true,
     "grade_id": "cell-dc0d7817fba267d9",
     "locked": false,
     "points": 2,
     "schema_version": 3,
     "solution": true,
     "task": false
    }
   },
   "source": [
    "'rental' has 7 columns in it. The primary key is 'rental_id'. There are a total of 3 foreign keys (fk_rental_staff links to staff_id, fk_rental_inventory links to inventory_id, fk_rental_customer links to customer_id). rental_date takes on the 'dates' type under TIMESTAMP and the return_date also takes on the 'dates' type under TIMESTAMP. The 'NOT NULL' means it cannot take on missing values whereas 'DEFAULT NULL' does the opposite."
   ]
  },
  {
   "cell_type": "markdown",
   "metadata": {
    "deletable": false,
    "editable": false,
    "nbgrader": {
     "cell_type": "markdown",
     "checksum": "b6c52d9e48f9cdfc2c4d59b123440963",
     "grade": false,
     "grade_id": "cell-8c88a2a9decfffad",
     "locked": true,
     "schema_version": 3,
     "solution": false,
     "task": false
    }
   },
   "source": [
    "### Problem 2\n",
    "\n",
    "What are the variable types of the variables `staff_id`, and `rental_id` in the `rental` table, respectively? Why is it useful or necessary to use different variable types for these three variables? Why can't they both be stored as tinyint's for example? "
   ]
  },
  {
   "cell_type": "markdown",
   "metadata": {
    "deletable": false,
    "nbgrader": {
     "cell_type": "markdown",
     "checksum": "bd02b86854ef95572c66fd9481186b37",
     "grade": true,
     "grade_id": "cell-0444b4f6f923a575",
     "locked": false,
     "points": 2,
     "schema_version": 3,
     "solution": true,
     "task": false
    }
   },
   "source": [
    "staff_id is a 'SMALLINT', which is an integer with the second smallest range in sqlite, whereas rental_id is a 'INT', which is an integer has range '-2,147,483,648 to 2,147,483,647' signed and '0 to 4,294,967,295' unsigned. staff_id appears to only take on two integers being either 1 or 2, so it would make sense to just use 'SMALLINT'. rental_id takes on integer values currently up to 16049. The types for each of these variables are necesssary because it allows for further expansion if staff_id calls for it and creates a lot of room for future transactions under the rental_id. The preallocation of storage preemptively based on the variable makes the database run smoothly."
   ]
  },
  {
   "cell_type": "markdown",
   "metadata": {
    "deletable": false,
    "editable": false,
    "nbgrader": {
     "cell_type": "markdown",
     "checksum": "54be96886dc7800a2e21f59c880540aa",
     "grade": false,
     "grade_id": "cell-ce28e85e08ef66db",
     "locked": true,
     "schema_version": 3,
     "solution": false,
     "task": false
    }
   },
   "source": [
    "### Problem 3\n",
    "\n",
    "The primary key of the `actor` table (which is `actor_id`) does not auto-increment. There are currently 200 actors in the `actor` table. Modify the `actor` table to list your own first and last name under `actor_id` 201. Use `date('now')` to enter the current time and date. \n",
    "\n",
    "Then print out all rows of the actor table for actors with the same last name as yours. "
   ]
  },
  {
   "cell_type": "code",
   "execution_count": 4,
   "metadata": {
    "deletable": false,
    "nbgrader": {
     "cell_type": "code",
     "checksum": "cc2a21d078048a5924f2eb6ff5b18c99",
     "grade": true,
     "grade_id": "cell-1169b95212a55283",
     "locked": false,
     "points": 3,
     "schema_version": 3,
     "solution": true,
     "task": false
    }
   },
   "outputs": [],
   "source": [
    "# COMPLETE\n",
    "con = sqlite3.connect(\"sqlite-sakila.db\")\n",
    "cur = con.cursor()\n",
    "cur.execute(\"DELETE FROM actor WHERE (actor_id==201)\") \n",
    "        # adding in this line, so that you can try out code more than once during development\n",
    "# create your own line\n",
    "act = cur.execute(\"INSERT INTO actor (actor_id, first_name, last_name, last_update) \\\n",
    "                    VALUES (201, 'Kevin', 'Pham', date('now'))\") # queue in relevant data\n",
    "con.commit() # commit to it\n",
    "\n",
    "# YOUR CODE HERE\n",
    "#raise NotImplementedError()\n",
    "\n",
    "con.close() # close the connection"
   ]
  },
  {
   "cell_type": "markdown",
   "metadata": {
    "deletable": false,
    "editable": false,
    "nbgrader": {
     "cell_type": "markdown",
     "checksum": "d2ab5813343a481a082904560daad950",
     "grade": false,
     "grade_id": "cell-cab97e36f9708a21",
     "locked": true,
     "schema_version": 3,
     "solution": false,
     "task": false
    }
   },
   "source": [
    "**Optional:** If you can't get your SQLite3 code to work, leave the SQL statement(s) you would use for the above tasks below. "
   ]
  },
  {
   "cell_type": "markdown",
   "metadata": {
    "deletable": false,
    "nbgrader": {
     "cell_type": "markdown",
     "checksum": "f212b8a65996aede2729694fd5212b3b",
     "grade": true,
     "grade_id": "cell-4d7778cc0656873e",
     "locked": false,
     "points": 0,
     "schema_version": 3,
     "solution": true,
     "task": false
    }
   },
   "source": [
    "YOUR ANSWER HERE"
   ]
  },
  {
   "cell_type": "markdown",
   "metadata": {
    "deletable": false,
    "editable": false,
    "nbgrader": {
     "cell_type": "markdown",
     "checksum": "9f584b30125caee3fb572c97e6c3958b",
     "grade": false,
     "grade_id": "cell-b98f0f4cdda22109",
     "locked": true,
     "schema_version": 3,
     "solution": false,
     "task": false
    }
   },
   "source": [
    "### Problem 4\n",
    "\n",
    "(a) Use Python to extract the columns `staff_id`, `amount`, and `payment_date` from the `Payment` table. \n",
    "Store these data in a Pandas data frame and display the data frame to the console for the grader to see."
   ]
  },
  {
   "cell_type": "code",
   "execution_count": 5,
   "metadata": {
    "deletable": false,
    "nbgrader": {
     "cell_type": "code",
     "checksum": "55576ff5342edd2ca5e61dad7c2a61f5",
     "grade": true,
     "grade_id": "cell-050eafc94bd47578",
     "locked": false,
     "points": 5,
     "schema_version": 3,
     "solution": true,
     "task": false
    }
   },
   "outputs": [
    {
     "data": {
      "text/html": [
       "<div>\n",
       "<style scoped>\n",
       "    .dataframe tbody tr th:only-of-type {\n",
       "        vertical-align: middle;\n",
       "    }\n",
       "\n",
       "    .dataframe tbody tr th {\n",
       "        vertical-align: top;\n",
       "    }\n",
       "\n",
       "    .dataframe thead th {\n",
       "        text-align: right;\n",
       "    }\n",
       "</style>\n",
       "<table border=\"1\" class=\"dataframe\">\n",
       "  <thead>\n",
       "    <tr style=\"text-align: right;\">\n",
       "      <th></th>\n",
       "      <th>staff_id</th>\n",
       "      <th>amount</th>\n",
       "      <th>payment_date</th>\n",
       "    </tr>\n",
       "  </thead>\n",
       "  <tbody>\n",
       "    <tr>\n",
       "      <th>0</th>\n",
       "      <td>1</td>\n",
       "      <td>2.99</td>\n",
       "      <td>2005-05-25 11:30:37.000</td>\n",
       "    </tr>\n",
       "    <tr>\n",
       "      <th>1</th>\n",
       "      <td>1</td>\n",
       "      <td>0.99</td>\n",
       "      <td>2005-05-28 10:35:23.000</td>\n",
       "    </tr>\n",
       "    <tr>\n",
       "      <th>2</th>\n",
       "      <td>1</td>\n",
       "      <td>5.99</td>\n",
       "      <td>2005-06-15 00:54:12.000</td>\n",
       "    </tr>\n",
       "    <tr>\n",
       "      <th>3</th>\n",
       "      <td>2</td>\n",
       "      <td>0.99</td>\n",
       "      <td>2005-06-15 18:02:53.000</td>\n",
       "    </tr>\n",
       "    <tr>\n",
       "      <th>4</th>\n",
       "      <td>2</td>\n",
       "      <td>9.99</td>\n",
       "      <td>2005-06-15 21:08:46.000</td>\n",
       "    </tr>\n",
       "    <tr>\n",
       "      <th>...</th>\n",
       "      <td>...</td>\n",
       "      <td>...</td>\n",
       "      <td>...</td>\n",
       "    </tr>\n",
       "    <tr>\n",
       "      <th>16044</th>\n",
       "      <td>1</td>\n",
       "      <td>4.99</td>\n",
       "      <td>2005-08-21 17:43:42.000</td>\n",
       "    </tr>\n",
       "    <tr>\n",
       "      <th>16045</th>\n",
       "      <td>1</td>\n",
       "      <td>1.99</td>\n",
       "      <td>2005-08-21 21:41:57.000</td>\n",
       "    </tr>\n",
       "    <tr>\n",
       "      <th>16046</th>\n",
       "      <td>2</td>\n",
       "      <td>8.99</td>\n",
       "      <td>2005-08-23 06:09:44.000</td>\n",
       "    </tr>\n",
       "    <tr>\n",
       "      <th>16047</th>\n",
       "      <td>2</td>\n",
       "      <td>2.99</td>\n",
       "      <td>2005-08-23 11:08:46.000</td>\n",
       "    </tr>\n",
       "    <tr>\n",
       "      <th>16048</th>\n",
       "      <td>2</td>\n",
       "      <td>2.99</td>\n",
       "      <td>2005-08-23 11:25:00.000</td>\n",
       "    </tr>\n",
       "  </tbody>\n",
       "</table>\n",
       "<p>16049 rows × 3 columns</p>\n",
       "</div>"
      ],
      "text/plain": [
       "       staff_id  amount             payment_date\n",
       "0             1    2.99  2005-05-25 11:30:37.000\n",
       "1             1    0.99  2005-05-28 10:35:23.000\n",
       "2             1    5.99  2005-06-15 00:54:12.000\n",
       "3             2    0.99  2005-06-15 18:02:53.000\n",
       "4             2    9.99  2005-06-15 21:08:46.000\n",
       "...         ...     ...                      ...\n",
       "16044         1    4.99  2005-08-21 17:43:42.000\n",
       "16045         1    1.99  2005-08-21 21:41:57.000\n",
       "16046         2    8.99  2005-08-23 06:09:44.000\n",
       "16047         2    2.99  2005-08-23 11:08:46.000\n",
       "16048         2    2.99  2005-08-23 11:25:00.000\n",
       "\n",
       "[16049 rows x 3 columns]"
      ]
     },
     "metadata": {},
     "output_type": "display_data"
    }
   ],
   "source": [
    "# COMPLETE\n",
    "# YOUR CODE HERE\n",
    "con = sqlite3.connect(\"sqlite-sakila.db\") # connect to database\n",
    "sq_frame = pd.read_sql(\"SELECT staff_id,amount,payment_date FROM Payment\",con) # retrieve the relevant data into a dataFrame\n",
    "cur = con.cursor() # establish cursor\n",
    "\n",
    "cur.execute(\"SELECT staff_id,amount,payment_date FROM Payment\")\n",
    "comp = cur.fetchall() # retrieve the data, each entry should be in order of (staff_id,amount,payment_date) as a tuple\n",
    "# note: list[tuple-wise][pos in the tuple]\n",
    "\n",
    "# retrieve the data from each tuple\n",
    "staff_id = []\n",
    "amount = []\n",
    "payment_date = []\n",
    "for i in range(len(comp)):\n",
    "    staff_id.append(comp[i][0])\n",
    "    amount.append(comp[i][1])\n",
    "    payment_date.append(comp[i][2])\n",
    "\n",
    "# establish the dataframe\n",
    "sq_frame = pd.DataFrame({\"staff_id\":staff_id, \"amount\":amount, \"payment_date\":payment_date})\n",
    "display(sq_frame) # display it\n",
    "\n",
    "\n",
    "\n",
    "con.close() # close the connection\n",
    "# raise NotImplementedError()"
   ]
  },
  {
   "cell_type": "markdown",
   "metadata": {
    "deletable": false,
    "editable": false,
    "nbgrader": {
     "cell_type": "markdown",
     "checksum": "5f1bbbcad4ba097952b8777f11979fd5",
     "grade": false,
     "grade_id": "cell-27b5b37d92169b17",
     "locked": true,
     "schema_version": 3,
     "solution": false,
     "task": false
    }
   },
   "source": [
    "**Optional:** If you can't get your SQLite3 code to work, leave the SQL statement(s) you would use for the above tasks below. "
   ]
  },
  {
   "cell_type": "markdown",
   "metadata": {
    "deletable": false,
    "nbgrader": {
     "cell_type": "markdown",
     "checksum": "056d2e5e48250e0cb798d599ae4c3cb5",
     "grade": true,
     "grade_id": "cell-eb4128cd7f237a53",
     "locked": false,
     "points": 0,
     "schema_version": 3,
     "solution": true,
     "task": false
    }
   },
   "source": [
    "YOUR ANSWER HERE"
   ]
  },
  {
   "cell_type": "markdown",
   "metadata": {
    "deletable": false,
    "editable": false,
    "nbgrader": {
     "cell_type": "markdown",
     "checksum": "a6e63f7ad6cc2c17104bb769768f581c",
     "grade": false,
     "grade_id": "cell-96f9e625934464af",
     "locked": true,
     "schema_version": 3,
     "solution": false,
     "task": false
    }
   },
   "source": [
    "(b) For the dataframe created in (a), take the date values and use either string formating or the [`pd.DatetimeIndex()` method](https://pandas.pydata.org/docs/reference/api/pandas.DatetimeIndex.html)  to extract just the month and the year of the transaction. Store both in separate columns of the data frame. \n",
    "\n",
    "Use groupby to find the total monthly transaction amounts, separately for each employee. \n",
    "\n",
    "Use Matplotlib to create a line-plot that shows the total transaction amount per employee per month as a function of time. Label the x-axis with the appropriate month/year combination and include one line per employee. Include a legend to indicate which line belongs to which employee. You can find an image on Canvas with an example of what your graph should look like. "
   ]
  },
  {
   "cell_type": "code",
   "execution_count": 6,
   "metadata": {
    "deletable": false,
    "nbgrader": {
     "cell_type": "code",
     "checksum": "d969ea7340d16c6a48bc3950bb8258ad",
     "grade": true,
     "grade_id": "cell-853bdbab963973b8",
     "locked": false,
     "points": 5,
     "schema_version": 3,
     "solution": true,
     "task": false
    }
   },
   "outputs": [
    {
     "data": {
      "image/png": "[encoded data removed]",
      "text/plain": [
       "<Figure size 432x288 with 1 Axes>"
      ]
     },
     "metadata": {
      "needs_background": "light"
     },
     "output_type": "display_data"
    }
   ],
   "source": [
    "# COMPLETE\n",
    "import matplotlib.pyplot as plt\n",
    "import numpy as np\n",
    "\n",
    "\n",
    "# YOUR CODE HERE\n",
    "# retrieve the month and year\n",
    "sq_frame['month'] = pd.DatetimeIndex(sq_frame['payment_date']).month\n",
    "sq_frame['year'] = pd.DatetimeIndex(sq_frame['payment_date']).year\n",
    "\n",
    "new = sq_frame.groupby(['year','month','staff_id']).sum().unstack(-1) # group by relevant variables\n",
    "# index looks terrible, let's reset it\n",
    "new.reset_index(inplace=True)\n",
    "\n",
    "# extract date ticks in order to plot with\n",
    "date_axis = []\n",
    "for i in range(len(new)):\n",
    "    date_axis.append(new.year[i].astype(str) + \"-\" + new.month[i].astype(str))\n",
    "\n",
    "# establish plot\n",
    "fig = plt.figure()\n",
    "ax = plt.axes()\n",
    "\n",
    "# plot it traversing through each staff_id\n",
    "for i,j in enumerate(list(set(staff_id))):\n",
    "    ax.plot(date_axis,new.amount[j],label = \"staff \" + str(j))\n",
    "\n",
    "# graph cosmetics\n",
    "ax.set_title(\"Staff Spending per month\"); # add a title\n",
    "ax.set_ylabel(\"Total monthly spending\"); # ylabel\n",
    "ax.set_xlabel(\"Date\"); #xlabel\n",
    "\n",
    "# legend\n",
    "ax.legend();\n",
    "\n",
    "\n",
    "# raise NotImplementedError()"
   ]
  },
  {
   "cell_type": "code",
   "execution_count": null,
   "metadata": {},
   "outputs": [],
   "source": []
  }
 ],
 "metadata": {
  "kernelspec": {
   "display_name": "Python 3 (ipykernel)",
   "language": "python",
   "name": "python3"
  },
  "language_info": {
   "codemirror_mode": {
    "name": "ipython",
    "version": 3
   },
   "file_extension": ".py",
   "mimetype": "text/x-python",
   "name": "python",
   "nbconvert_exporter": "python",
   "pygments_lexer": "ipython3",
   "version": "3.9.7"
  }
 },
 "nbformat": 4,
 "nbformat_minor": 2
}
